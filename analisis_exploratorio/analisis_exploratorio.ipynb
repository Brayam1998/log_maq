{
 "cells": [
  {
   "cell_type": "code",
   "execution_count": 2,
   "metadata": {},
   "outputs": [],
   "source": [
    "import pandas as pd\n",
    "import matplotlib.pyplot as plt\n",
    "import seaborn as sns\n",
    "import numpy as np"
   ]
  },
  {
   "cell_type": "code",
   "execution_count": 4,
   "metadata": {},
   "outputs": [],
   "source": [
    "path_log_limpio = r\"C:\\Users\\DELL\\Desktop\\losg_proyect\\bases_datos\\log_limpio.csv\"\n",
    "log_data = pd.read_csv(path_log_limpio)"
   ]
  },
  {
   "cell_type": "code",
   "execution_count": 7,
   "metadata": {},
   "outputs": [
    {
     "data": {
      "text/html": [
       "<div>\n",
       "<style scoped>\n",
       "    .dataframe tbody tr th:only-of-type {\n",
       "        vertical-align: middle;\n",
       "    }\n",
       "\n",
       "    .dataframe tbody tr th {\n",
       "        vertical-align: top;\n",
       "    }\n",
       "\n",
       "    .dataframe thead th {\n",
       "        text-align: right;\n",
       "    }\n",
       "</style>\n",
       "<table border=\"1\" class=\"dataframe\">\n",
       "  <thead>\n",
       "    <tr style=\"text-align: right;\">\n",
       "      <th></th>\n",
       "      <th>fecha</th>\n",
       "      <th>hora</th>\n",
       "      <th>codigo_defecto</th>\n",
       "      <th>alerta</th>\n",
       "      <th>especificacion</th>\n",
       "    </tr>\n",
       "  </thead>\n",
       "  <tbody>\n",
       "    <tr>\n",
       "      <th>0</th>\n",
       "      <td>22/08/2005</td>\n",
       "      <td>04:13:10</td>\n",
       "      <td>[0930]</td>\n",
       "      <td>&lt;NORMAL&gt;</td>\n",
       "      <td>One Board is completed</td>\n",
       "    </tr>\n",
       "    <tr>\n",
       "      <th>1</th>\n",
       "      <td>22/08/2005</td>\n",
       "      <td>04:13:10</td>\n",
       "      <td>[0930]</td>\n",
       "      <td>&lt;NORMAL&gt;</td>\n",
       "      <td>One Board is completed</td>\n",
       "    </tr>\n",
       "    <tr>\n",
       "      <th>2</th>\n",
       "      <td>22/08/2005</td>\n",
       "      <td>04:13:11</td>\n",
       "      <td>[0930]</td>\n",
       "      <td>&lt;NORMAL&gt;</td>\n",
       "      <td>One Board is completed</td>\n",
       "    </tr>\n",
       "    <tr>\n",
       "      <th>3</th>\n",
       "      <td>22/08/2005</td>\n",
       "      <td>04:13:11</td>\n",
       "      <td>[0938]</td>\n",
       "      <td>&lt;NORMAL&gt;</td>\n",
       "      <td>Reserved Information Message 7</td>\n",
       "    </tr>\n",
       "    <tr>\n",
       "      <th>4</th>\n",
       "      <td>22/08/2005</td>\n",
       "      <td>04:13:11</td>\n",
       "      <td>[0930]</td>\n",
       "      <td>&lt;NORMAL&gt;</td>\n",
       "      <td>One Board is completed</td>\n",
       "    </tr>\n",
       "    <tr>\n",
       "      <th>5</th>\n",
       "      <td>22/08/2005</td>\n",
       "      <td>04:13:11</td>\n",
       "      <td>[0930]</td>\n",
       "      <td>&lt;NORMAL&gt;</td>\n",
       "      <td>One Board is completed</td>\n",
       "    </tr>\n",
       "    <tr>\n",
       "      <th>6</th>\n",
       "      <td>22/08/2005</td>\n",
       "      <td>04:13:13</td>\n",
       "      <td>[0930]</td>\n",
       "      <td>&lt;NORMAL&gt;</td>\n",
       "      <td>One Board is completed</td>\n",
       "    </tr>\n",
       "    <tr>\n",
       "      <th>7</th>\n",
       "      <td>22/08/2005</td>\n",
       "      <td>04:13:14</td>\n",
       "      <td>[0938]</td>\n",
       "      <td>&lt;NORMAL&gt;</td>\n",
       "      <td>Reserved Information Message 7</td>\n",
       "    </tr>\n",
       "    <tr>\n",
       "      <th>8</th>\n",
       "      <td>22/08/2005</td>\n",
       "      <td>04:13:45</td>\n",
       "      <td>[0930]</td>\n",
       "      <td>&lt;NORMAL&gt;</td>\n",
       "      <td>One Board is completed</td>\n",
       "    </tr>\n",
       "    <tr>\n",
       "      <th>9</th>\n",
       "      <td>22/08/2005</td>\n",
       "      <td>04:13:45</td>\n",
       "      <td>[0930]</td>\n",
       "      <td>&lt;NORMAL&gt;</td>\n",
       "      <td>One Board is completed</td>\n",
       "    </tr>\n",
       "  </tbody>\n",
       "</table>\n",
       "</div>"
      ],
      "text/plain": [
       "        fecha      hora codigo_defecto    alerta  \\\n",
       "0  22/08/2005  04:13:10         [0930]  <NORMAL>   \n",
       "1  22/08/2005  04:13:10         [0930]  <NORMAL>   \n",
       "2  22/08/2005  04:13:11         [0930]  <NORMAL>   \n",
       "3  22/08/2005  04:13:11         [0938]  <NORMAL>   \n",
       "4  22/08/2005  04:13:11         [0930]  <NORMAL>   \n",
       "5  22/08/2005  04:13:11         [0930]  <NORMAL>   \n",
       "6  22/08/2005  04:13:13         [0930]  <NORMAL>   \n",
       "7  22/08/2005  04:13:14         [0938]  <NORMAL>   \n",
       "8  22/08/2005  04:13:45         [0930]  <NORMAL>   \n",
       "9  22/08/2005  04:13:45         [0930]  <NORMAL>   \n",
       "\n",
       "                   especificacion  \n",
       "0          One Board is completed  \n",
       "1          One Board is completed  \n",
       "2          One Board is completed  \n",
       "3  Reserved Information Message 7  \n",
       "4          One Board is completed  \n",
       "5          One Board is completed  \n",
       "6          One Board is completed  \n",
       "7  Reserved Information Message 7  \n",
       "8          One Board is completed  \n",
       "9          One Board is completed  "
      ]
     },
     "execution_count": 7,
     "metadata": {},
     "output_type": "execute_result"
    }
   ],
   "source": [
    "log_data.head(10)"
   ]
  },
  {
   "cell_type": "markdown",
   "metadata": {},
   "source": [
    "Exploracion: Tipo de Datos"
   ]
  },
  {
   "cell_type": "markdown",
   "metadata": {},
   "source": [
    "Exploración cuantitativa"
   ]
  },
  {
   "cell_type": "code",
   "execution_count": null,
   "metadata": {},
   "outputs": [],
   "source": []
  },
  {
   "cell_type": "code",
   "execution_count": null,
   "metadata": {},
   "outputs": [],
   "source": [
    "git remote add origin <git@github.com:Brayam1998/logs_dataSciencie.git>\n",
    "biehub98"
   ]
  }
 ],
 "metadata": {
  "kernelspec": {
   "display_name": "analisis_churn",
   "language": "python",
   "name": "python3"
  },
  "language_info": {
   "codemirror_mode": {
    "name": "ipython",
    "version": 3
   },
   "file_extension": ".py",
   "mimetype": "text/x-python",
   "name": "python",
   "nbconvert_exporter": "python",
   "pygments_lexer": "ipython3",
   "version": "3.9.15"
  }
 },
 "nbformat": 4,
 "nbformat_minor": 2
}
