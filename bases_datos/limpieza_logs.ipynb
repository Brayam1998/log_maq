{
 "cells": [
  {
   "cell_type": "code",
   "execution_count": 1,
   "metadata": {},
   "outputs": [],
   "source": [
    "import re\n",
    "import csv"
   ]
  },
  {
   "cell_type": "code",
   "execution_count": 11,
   "metadata": {},
   "outputs": [],
   "source": [
    "input_file_path = r\"C:\\Users\\DELL\\Desktop\\losg_proyect\\bases_datos\\log_4_test.csv\"\n",
    "#output_file_path = r\"C:Users\\DELL\\Desktop\\losg_proyect\\bases_datos\\log_4_test_output.csv\"\n",
    "output_file_path = r\"C:\\Users\\DELL\\Desktop\\losg_proyect\\bases_datos\\log_4_test_output.csv\""
   ]
  },
  {
   "cell_type": "code",
   "execution_count": 31,
   "metadata": {},
   "outputs": [
    {
     "name": "stdout",
     "output_type": "stream",
     "text": [
      "Proceso completado. Archivo de salida: C:\\Users\\DELL\\Desktop\\losg_proyect\\bases_datos\\log_4_test_output.csv\n"
     ]
    }
   ],
   "source": [
    "# Expresión regular para buscar símbolos < y >, y corchetes [ y ]\n",
    "pattern = re.compile(r'[<>[\\]]')\n",
    "\n",
    "# Reemplazos\n",
    "remplazo_corchetes = ''\n",
    "remplazo_sim = \"\"\n",
    "\n",
    "# Abrir el archivo de entrada y el archivo de salida\n",
    "with open(input_file_path, 'r', newline='') as input_file, \\\n",
    "     open(output_file_path, 'w', newline='') as output_file:\n",
    "\n",
    "    # Crear objetos de escritura y lectura CSV\n",
    "    csv_reader = csv.reader(input_file)\n",
    "    csv_writer = csv.writer(output_file)\n",
    "\n",
    "    # Iterar sobre cada línea del archivo de entrada\n",
    "    for row in csv_reader:\n",
    "        # Aplicar la expresión regular y reemplazar corchetes con \"#\" y <> con \"!\"\n",
    "        fila_actualizada = [pattern.sub(remplazo_corchetes, element) for element in row]\n",
    "        fila_actualizada = [re.sub(r'<>', \"9\", element) for element in fila_actualizada]     \n",
    "        csv_writer.writerow(fila_actualizada)\n",
    "\n",
    "print(\"Proceso completado. Archivo de salida:\", output_file_path)"
   ]
  }
 ],
 "metadata": {
  "kernelspec": {
   "display_name": "analisis_churn",
   "language": "python",
   "name": "python3"
  },
  "language_info": {
   "codemirror_mode": {
    "name": "ipython",
    "version": 3
   },
   "file_extension": ".py",
   "mimetype": "text/x-python",
   "name": "python",
   "nbconvert_exporter": "python",
   "pygments_lexer": "ipython3",
   "version": "3.9.15"
  }
 },
 "nbformat": 4,
 "nbformat_minor": 2
}
